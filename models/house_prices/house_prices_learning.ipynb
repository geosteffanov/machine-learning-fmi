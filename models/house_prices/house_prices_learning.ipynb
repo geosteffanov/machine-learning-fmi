{
 "cells": [
  {
   "cell_type": "code",
   "execution_count": 1,
   "metadata": {
    "collapsed": true
   },
   "outputs": [],
   "source": [
    "import sys\n",
    "\n",
    "import sklearn\n",
    "import pandas as pd\n",
    "import matplotlib as mpl\n",
    "import matplotlib.pyplot as plt\n",
    "import seaborn as sns\n",
    "\n",
    "%matplotlib inline"
   ]
  },
  {
   "cell_type": "code",
   "execution_count": 2,
   "metadata": {
    "collapsed": true
   },
   "outputs": [],
   "source": [
    "train = pd.read_csv('data/house-prices/train.csv', index_col=['Id'])\n",
    "test = pd.read_csv('data/house-prices/test.csv', index_col=['Id'])"
   ]
  },
  {
   "cell_type": "code",
   "execution_count": 3,
   "metadata": {
    "collapsed": true
   },
   "outputs": [],
   "source": [
    "from sklearn.model_selection import train_test_split\n",
    "\n",
    "train_no_sale_price = train.drop(labels=['SalePrice'], axis=1)\n",
    "train_sale_price = train['SalePrice']\n",
    "\n",
    "x_train, x_test, y_train, y_test = train_test_split(train_no_sale_price, \n",
    "                                                    train_sale_price, \n",
    "                                                    test_size=0.3, \n",
    "                                                    random_state=4330)"
   ]
  },
  {
   "cell_type": "code",
   "execution_count": 4,
   "metadata": {},
   "outputs": [],
   "source": [
    "from sklearn.linear_model import LinearRegression\n",
    "from sklearn.preprocessing import LabelEncoder\n",
    "from sklearn.preprocessing import OneHotEncoder\n",
    "\"\"\"\n",
    "    Several steps are implemented in this method:\n",
    "    1. Find 'None' values in the dataset and replace them by zeros.\n",
    "    2. Find all categorical values and encode them using a LabelEncoder\n",
    "    3. Use a OneHotEncoder to transform the dataset\n",
    "    4. Return the new dataset\n",
    "\"\"\"\n",
    "    \n",
    "def accommodate_strings(data):\n",
    "    # split columns into categorical_columns and numerical_columns\n",
    "    numerical_columns = data.describe().columns\n",
    "    categorical_columns = data.dtypes[data.dtypes == \"object\"].index\n",
    "    \n",
    "    # get all categorical_data\n",
    "    cat_data = data[categorical_columns]\n",
    "    cat_data = cat_data.fillna(\"NAN\")\n",
    "    \n",
    "    # get all numerical_data\n",
    "    num_dataframe = data[numerical_columns]\n",
    "    num_dataframe = num_dataframe.fillna(0)\n",
    "    \n",
    "\n",
    "    encoders = { col : LabelEncoder().fit(cat_data[col]) for col in categorical_columns }\n",
    "    cat_dataframe = pd.DataFrame({col: encoders[col].transform(cat_data[col]) for col in categorical_columns})\n",
    "    encoder = OneHotEncoder().fit(cat_dataframe)\n",
    "    cat_dataframe = encoder.transform(cat_dataframe).todense()\n",
    "    cat_dataframe = pd.DataFrame(cat_dataframe)\n",
    "    \n",
    "    # pandas.concatenate BUGGSSSS ????\n",
    "    new_dataframe = pd.np.concatenate([num_dataframe, cat_dataframe],axis=1)\n",
    "    return new_dataframe\n",
    "\n",
    "new_tr = accommodate_strings(train_no_sale_price)\n",
    "x_tr, x_te, y_tr,y_te = train_test_split(new_tr, train_sale_price, test_size=0.3, random_state=4330)"
   ]
  },
  {
   "cell_type": "code",
   "execution_count": 7,
   "metadata": {},
   "outputs": [],
   "source": [
    "regressor = LinearRegression().fit(x_tr, y_tr)"
   ]
  },
  {
   "cell_type": "code",
   "execution_count": 8,
   "metadata": {},
   "outputs": [
    {
     "data": {
      "text/plain": [
       "0.84688815242815063"
      ]
     },
     "execution_count": 8,
     "metadata": {},
     "output_type": "execute_result"
    }
   ],
   "source": [
    "regressor.score(x_te, y_te)"
   ]
  },
  {
   "cell_type": "code",
   "execution_count": 12,
   "metadata": {},
   "outputs": [
    {
     "name": "stdout",
     "output_type": "stream",
     "text": [
      "alpha: 0.01\n",
      "Train: 0.9374607177132872, Test: 0.8488214740142501\n",
      "\n",
      "alpha: 0.1\n",
      "Train: 0.9364454642419521, Test: 0.85962824282679\n",
      "\n",
      "alpha: 1\n",
      "Train: 0.922736065601494, Test: 0.8824267159987822\n",
      "\n",
      "alpha: 10\n",
      "Train: 0.8933107135132801, Test: 0.89224047848205\n",
      "\n",
      "alpha: 12\n",
      "Train: 0.8907684953353702, Test: 0.8924903654460451\n",
      "\n"
     ]
    }
   ],
   "source": [
    "from sklearn.linear_model import Ridge\n",
    "\n",
    "alpha = [0.01, 0.1, 1, 10, 12]\n",
    "\n",
    "for a in alpha:\n",
    "    all_data_lr = Ridge(alpha = a).fit(x_tr, y_tr)\n",
    "    print('alpha:', a)\n",
    "    print(\"Train: {0}, Test: {1}\".format(all_data_lr.score(x_tr, y_tr), all_data_lr.score(x_te, y_te)))\n",
    "    print()"
   ]
  },
  {
   "cell_type": "code",
   "execution_count": null,
   "metadata": {
    "collapsed": true
   },
   "outputs": [],
   "source": []
  }
 ],
 "metadata": {
  "kernelspec": {
   "display_name": "Python 3",
   "language": "python",
   "name": "python3"
  },
  "language_info": {
   "codemirror_mode": {
    "name": "ipython",
    "version": 3
   },
   "file_extension": ".py",
   "mimetype": "text/x-python",
   "name": "python",
   "nbconvert_exporter": "python",
   "pygments_lexer": "ipython3",
   "version": "3.6.2"
  }
 },
 "nbformat": 4,
 "nbformat_minor": 2
}
